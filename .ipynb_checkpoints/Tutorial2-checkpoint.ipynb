{
 "cells": [
  {
   "cell_type": "markdown",
   "metadata": {},
   "source": [
    "# Section 1"
   ]
  },
  {
   "cell_type": "code",
   "execution_count": 5,
   "metadata": {},
   "outputs": [
    {
     "name": "stdout",
     "output_type": "stream",
     "text": [
      "c0535e4be2b79ffd93291305436bf889314e4a3faec05ecffcbb7df31ad9e51a\n"
     ]
    }
   ],
   "source": [
    "from Cryptodome.Hash import SHA256\n",
    "\n",
    "hex_hash = SHA256.new(b\"Hello world!\").hexdigest()\n",
    "print(hex_hash)"
   ]
  },
  {
   "cell_type": "code",
   "execution_count": 8,
   "metadata": {},
   "outputs": [
    {
     "name": "stdout",
     "output_type": "stream",
     "text": [
      "c0535e4be2b79ffd93291305436bf889314e4a3faec05ecffcbb7df31ad9e51a\n"
     ]
    }
   ],
   "source": [
    "incremental_hash = SHA256.new()\n",
    "incremental_hash.update(b\"Hello \")\n",
    "incremental_hash.update(b\"world!\")\n",
    "print(incremental_hash.hexdigest())"
   ]
  },
  {
   "cell_type": "code",
   "execution_count": 17,
   "metadata": {},
   "outputs": [
    {
     "name": "stdout",
     "output_type": "stream",
     "text": [
      "c0535e4be2b79ffd93291305436bf889314e4a3faec05ecffcbb7df31ad9e51a\n",
      "c0535e4be2b79ffd93291305436bf889314e4a3faec05ecffcbb7df31ad9e51a\n",
      "c0535e4be2b79ffd93291305436bf889314e4a3faec05ecffcbb7df31ad9e51a\n"
     ]
    }
   ],
   "source": [
    "from hashlib import sha256\n",
    "\n",
    "hex_hash = sha256(b\"Hello world!\").hexdigest()\n",
    "print(hex_hash)\n",
    "\n",
    "bin_hash = sha256(b\"Hello world!\").digest()\n",
    "printable = bin_hash.hex()\n",
    "print(printable)\n",
    "\n",
    "incremental_hash = sha256()\n",
    "incremental_hash.update(b\"Hello \")\n",
    "incremental_hash.update(b\"world!\")\n",
    "print(incremental_hash.hexdigest())"
   ]
  },
  {
   "cell_type": "markdown",
   "metadata": {},
   "source": [
    "## Exercise 1"
   ]
  },
  {
   "cell_type": "code",
   "execution_count": 15,
   "metadata": {},
   "outputs": [
    {
     "name": "stdout",
     "output_type": "stream",
     "text": [
      "dc6d32d2c4e79833790b5f6b33fa78da64f40be03bc166de78ab0be6bfac578a\n"
     ]
    }
   ],
   "source": [
    "name_hash = SHA256.new(b\"Tomek Horszczaruk\").hexdigest()\n",
    "print(name_hash)"
   ]
  },
  {
   "cell_type": "markdown",
   "metadata": {},
   "source": [
    "## Exercise 2"
   ]
  },
  {
   "cell_type": "code",
   "execution_count": 50,
   "metadata": {},
   "outputs": [
    {
     "ename": "TypeError",
     "evalue": "'bytearray' object is not callable",
     "output_type": "error",
     "traceback": [
      "\u001b[1;31m---------------------------------------------------------------------------\u001b[0m",
      "\u001b[1;31mTypeError\u001b[0m                                 Traceback (most recent call last)",
      "\u001b[1;32m<ipython-input-50-c1d7e109bad9>\u001b[0m in \u001b[0;36m<module>\u001b[1;34m\u001b[0m\n\u001b[1;32m----> 1\u001b[1;33m \u001b[0mh\u001b[0m \u001b[1;33m=\u001b[0m \u001b[0mSHA256\u001b[0m\u001b[1;33m.\u001b[0m\u001b[0mnew\u001b[0m\u001b[1;33m(\u001b[0m\u001b[0mb\u001b[0m\u001b[1;33m(\u001b[0m\u001b[1;34m\"5\"\u001b[0m\u001b[1;33m)\u001b[0m\u001b[1;33m)\u001b[0m\u001b[1;33m.\u001b[0m\u001b[0mhexdigest\u001b[0m\u001b[1;33m(\u001b[0m\u001b[1;33m)\u001b[0m\u001b[1;33m\u001b[0m\u001b[1;33m\u001b[0m\u001b[0m\n\u001b[0m\u001b[0;32m      2\u001b[0m \u001b[0mprint\u001b[0m\u001b[1;33m(\u001b[0m\u001b[0mh\u001b[0m\u001b[1;33m)\u001b[0m\u001b[1;33m\u001b[0m\u001b[1;33m\u001b[0m\u001b[0m\n",
      "\u001b[1;31mTypeError\u001b[0m: 'bytearray' object is not callable"
     ]
    }
   ],
   "source": [
    "h = SHA256.new(b\"5\").hexdigest()\n",
    "print(h)"
   ]
  },
  {
   "cell_type": "markdown",
   "metadata": {},
   "source": [
    "# Section 2"
   ]
  },
  {
   "cell_type": "code",
   "execution_count": 99,
   "metadata": {},
   "outputs": [
    {
     "name": "stdout",
     "output_type": "stream",
     "text": [
      "Gibberish incoming: c0b0f232a192a2ef9f782eac7317ad3a\n",
      "All good!\n"
     ]
    }
   ],
   "source": [
    "from Cryptodome.Cipher import AES\n",
    "from Cryptodome import Random\n",
    "\n",
    "key = b\"I am a short key\"\n",
    "plaintext = b\"Alice I love you\"\n",
    "\n",
    "iv = Random.new().read(AES.block_size)\n",
    "\n",
    "encrypter = AES.new(key, AES.MODE_CFB, iv)\n",
    "\n",
    "ciphertext = encrypter.encrypt(plaintext)\n",
    "print(\"Gibberish incoming:\", ciphertext.hex())\n",
    "\n",
    "decrypter = AES.new(key, AES.MODE_CFB, iv)\n",
    "\n",
    "decrypted = decrypter.decrypt(ciphertext)\n",
    "if plaintext == decrypted:\n",
    "    print(\"All good!\")"
   ]
  },
  {
   "cell_type": "markdown",
   "metadata": {},
   "source": [
    "## Exercise 4"
   ]
  },
  {
   "cell_type": "code",
   "execution_count": 71,
   "metadata": {},
   "outputs": [
    {
     "name": "stdout",
     "output_type": "stream",
     "text": [
      "b'Tomek Horszczaruk'\n"
     ]
    }
   ],
   "source": [
    "plaintext = b\"Tomek Horszczaruk\"\n",
    "iv = Random.new().read(AES.block_size)\n",
    "key = Random.new().read(AES.key_size[1])\n",
    "\n",
    "encrypter = AES.new(key, AES.MODE_CFB, iv)\n",
    "decrypter = AES.new(key, AES.MODE_CFB, iv)\n",
    "\n",
    "ciphertext = encrypter.encrypt(plaintext)\n",
    "decrypted = decrypter.decrypt(ciphertext)\n",
    "print(decrypted)"
   ]
  },
  {
   "cell_type": "markdown",
   "metadata": {},
   "source": [
    "## Exercise 5"
   ]
  },
  {
   "cell_type": "code",
   "execution_count": 113,
   "metadata": {},
   "outputs": [
    {
     "ename": "ValueError",
     "evalue": "Incorrect AES key length (64 bytes)",
     "output_type": "error",
     "traceback": [
      "\u001b[1;31m---------------------------------------------------------------------------\u001b[0m",
      "\u001b[1;31mValueError\u001b[0m                                Traceback (most recent call last)",
      "\u001b[1;32m<ipython-input-113-bbad5a7bd553>\u001b[0m in \u001b[0;36m<module>\u001b[1;34m\u001b[0m\n\u001b[0;32m      3\u001b[0m \u001b[0mciphertext\u001b[0m \u001b[1;33m=\u001b[0m \u001b[1;34mb\"07f631fe65dfd567ea16cefc8f7d7a2117d976935c81dff69587d7a60e79b99529c19d910e52f8e1fae1680ceb438ed461b6bf4ab655d390ee5329f89f458affec7fe3a7660c59374248326469e22b635e7f17abb1beb28dc4e401bf99b149d7b445215fdca7823677\"\u001b[0m\u001b[1;33m\u001b[0m\u001b[1;33m\u001b[0m\u001b[0m\n\u001b[0;32m      4\u001b[0m \u001b[1;33m\u001b[0m\u001b[0m\n\u001b[1;32m----> 5\u001b[1;33m \u001b[0mdecrypter\u001b[0m \u001b[1;33m=\u001b[0m \u001b[0mAES\u001b[0m\u001b[1;33m.\u001b[0m\u001b[0mnew\u001b[0m\u001b[1;33m(\u001b[0m\u001b[0mkey\u001b[0m\u001b[1;33m,\u001b[0m \u001b[0mAES\u001b[0m\u001b[1;33m.\u001b[0m\u001b[0mMODE_CFB\u001b[0m\u001b[1;33m,\u001b[0m \u001b[0miv\u001b[0m\u001b[1;33m)\u001b[0m\u001b[1;33m\u001b[0m\u001b[1;33m\u001b[0m\u001b[0m\n\u001b[0m\u001b[0;32m      6\u001b[0m \u001b[1;33m\u001b[0m\u001b[0m\n\u001b[0;32m      7\u001b[0m \u001b[1;31m# plaintext = decrypter.decrypt(ciphertext)\u001b[0m\u001b[1;33m\u001b[0m\u001b[1;33m\u001b[0m\u001b[1;33m\u001b[0m\u001b[0m\n",
      "\u001b[1;32mc:\\users\\tomek\\miniconda3\\lib\\site-packages\\Cryptodome\\Cipher\\AES.py\u001b[0m in \u001b[0;36mnew\u001b[1;34m(key, mode, *args, **kwargs)\u001b[0m\n\u001b[0;32m    230\u001b[0m \u001b[1;33m\u001b[0m\u001b[0m\n\u001b[0;32m    231\u001b[0m     \u001b[0mkwargs\u001b[0m\u001b[1;33m[\u001b[0m\u001b[1;34m\"add_aes_modes\"\u001b[0m\u001b[1;33m]\u001b[0m \u001b[1;33m=\u001b[0m \u001b[1;32mTrue\u001b[0m\u001b[1;33m\u001b[0m\u001b[1;33m\u001b[0m\u001b[0m\n\u001b[1;32m--> 232\u001b[1;33m     \u001b[1;32mreturn\u001b[0m \u001b[0m_create_cipher\u001b[0m\u001b[1;33m(\u001b[0m\u001b[0msys\u001b[0m\u001b[1;33m.\u001b[0m\u001b[0mmodules\u001b[0m\u001b[1;33m[\u001b[0m\u001b[0m__name__\u001b[0m\u001b[1;33m]\u001b[0m\u001b[1;33m,\u001b[0m \u001b[0mkey\u001b[0m\u001b[1;33m,\u001b[0m \u001b[0mmode\u001b[0m\u001b[1;33m,\u001b[0m \u001b[1;33m*\u001b[0m\u001b[0margs\u001b[0m\u001b[1;33m,\u001b[0m \u001b[1;33m**\u001b[0m\u001b[0mkwargs\u001b[0m\u001b[1;33m)\u001b[0m\u001b[1;33m\u001b[0m\u001b[1;33m\u001b[0m\u001b[0m\n\u001b[0m\u001b[0;32m    233\u001b[0m \u001b[1;33m\u001b[0m\u001b[0m\n\u001b[0;32m    234\u001b[0m \u001b[1;33m\u001b[0m\u001b[0m\n",
      "\u001b[1;32mc:\\users\\tomek\\miniconda3\\lib\\site-packages\\Cryptodome\\Cipher\\__init__.py\u001b[0m in \u001b[0;36m_create_cipher\u001b[1;34m(factory, key, mode, *args, **kwargs)\u001b[0m\n\u001b[0;32m     77\u001b[0m             \u001b[1;32mraise\u001b[0m \u001b[0mTypeError\u001b[0m\u001b[1;33m(\u001b[0m\u001b[1;34m\"IV is not meaningful for the ECB mode\"\u001b[0m\u001b[1;33m)\u001b[0m\u001b[1;33m\u001b[0m\u001b[1;33m\u001b[0m\u001b[0m\n\u001b[0;32m     78\u001b[0m \u001b[1;33m\u001b[0m\u001b[0m\n\u001b[1;32m---> 79\u001b[1;33m     \u001b[1;32mreturn\u001b[0m \u001b[0mmodes\u001b[0m\u001b[1;33m[\u001b[0m\u001b[0mmode\u001b[0m\u001b[1;33m]\u001b[0m\u001b[1;33m(\u001b[0m\u001b[0mfactory\u001b[0m\u001b[1;33m,\u001b[0m \u001b[1;33m**\u001b[0m\u001b[0mkwargs\u001b[0m\u001b[1;33m)\u001b[0m\u001b[1;33m\u001b[0m\u001b[1;33m\u001b[0m\u001b[0m\n\u001b[0m",
      "\u001b[1;32mc:\\users\\tomek\\miniconda3\\lib\\site-packages\\Cryptodome\\Cipher\\_mode_cfb.py\u001b[0m in \u001b[0;36m_create_cfb_cipher\u001b[1;34m(factory, **kwargs)\u001b[0m\n\u001b[0;32m    268\u001b[0m     \"\"\"\n\u001b[0;32m    269\u001b[0m \u001b[1;33m\u001b[0m\u001b[0m\n\u001b[1;32m--> 270\u001b[1;33m     \u001b[0mcipher_state\u001b[0m \u001b[1;33m=\u001b[0m \u001b[0mfactory\u001b[0m\u001b[1;33m.\u001b[0m\u001b[0m_create_base_cipher\u001b[0m\u001b[1;33m(\u001b[0m\u001b[0mkwargs\u001b[0m\u001b[1;33m)\u001b[0m\u001b[1;33m\u001b[0m\u001b[1;33m\u001b[0m\u001b[0m\n\u001b[0m\u001b[0;32m    271\u001b[0m \u001b[1;33m\u001b[0m\u001b[0m\n\u001b[0;32m    272\u001b[0m     \u001b[0miv\u001b[0m \u001b[1;33m=\u001b[0m \u001b[0mkwargs\u001b[0m\u001b[1;33m.\u001b[0m\u001b[0mpop\u001b[0m\u001b[1;33m(\u001b[0m\u001b[1;34m\"IV\"\u001b[0m\u001b[1;33m,\u001b[0m \u001b[1;32mNone\u001b[0m\u001b[1;33m)\u001b[0m\u001b[1;33m\u001b[0m\u001b[1;33m\u001b[0m\u001b[0m\n",
      "\u001b[1;32mc:\\users\\tomek\\miniconda3\\lib\\site-packages\\Cryptodome\\Cipher\\AES.py\u001b[0m in \u001b[0;36m_create_base_cipher\u001b[1;34m(dict_parameters)\u001b[0m\n\u001b[0;32m     91\u001b[0m \u001b[1;33m\u001b[0m\u001b[0m\n\u001b[0;32m     92\u001b[0m     \u001b[1;32mif\u001b[0m \u001b[0mlen\u001b[0m\u001b[1;33m(\u001b[0m\u001b[0mkey\u001b[0m\u001b[1;33m)\u001b[0m \u001b[1;32mnot\u001b[0m \u001b[1;32min\u001b[0m \u001b[0mkey_size\u001b[0m\u001b[1;33m:\u001b[0m\u001b[1;33m\u001b[0m\u001b[1;33m\u001b[0m\u001b[0m\n\u001b[1;32m---> 93\u001b[1;33m         \u001b[1;32mraise\u001b[0m \u001b[0mValueError\u001b[0m\u001b[1;33m(\u001b[0m\u001b[1;34m\"Incorrect AES key length (%d bytes)\"\u001b[0m \u001b[1;33m%\u001b[0m \u001b[0mlen\u001b[0m\u001b[1;33m(\u001b[0m\u001b[0mkey\u001b[0m\u001b[1;33m)\u001b[0m\u001b[1;33m)\u001b[0m\u001b[1;33m\u001b[0m\u001b[1;33m\u001b[0m\u001b[0m\n\u001b[0m\u001b[0;32m     94\u001b[0m \u001b[1;33m\u001b[0m\u001b[0m\n\u001b[0;32m     95\u001b[0m     \u001b[1;32mif\u001b[0m \u001b[0muse_aesni\u001b[0m \u001b[1;32mand\u001b[0m \u001b[0m_raw_aesni_lib\u001b[0m\u001b[1;33m:\u001b[0m\u001b[1;33m\u001b[0m\u001b[1;33m\u001b[0m\u001b[0m\n",
      "\u001b[1;31mValueError\u001b[0m: Incorrect AES key length (64 bytes)"
     ]
    }
   ],
   "source": [
    "key = b\"6555d417a283161f440cfad518eb852845a6ff45f7e1b7623090b7714a5bbd5f\"\n",
    "iv = b\"9e6632df5a211060622769d9c2300753\"\n",
    "ciphertext = b\"07f631fe65dfd567ea16cefc8f7d7a2117d976935c81dff69587d7a60e79b99529c19d910e52f8e1fae1680ceb438ed461b6bf4ab655d390ee5329f89f458affec7fe3a7660c59374248326469e22b635e7f17abb1beb28dc4e401bf99b149d7b445215fdca7823677\"\n",
    "\n",
    "decrypter = AES.new(key, AES.MODE_CFB, iv)\n",
    "\n",
    "# plaintext = decrypter.decrypt(ciphertext)\n"
   ]
  },
  {
   "cell_type": "markdown",
   "metadata": {},
   "source": [
    "## Exercise 6"
   ]
  },
  {
   "cell_type": "code",
   "execution_count": null,
   "metadata": {},
   "outputs": [],
   "source": [
    "decrypter = AES.new()"
   ]
  },
  {
   "cell_type": "markdown",
   "metadata": {},
   "source": [
    "# Section 3"
   ]
  },
  {
   "cell_type": "code",
   "execution_count": null,
   "metadata": {},
   "outputs": [],
   "source": [
    "from Cryptodome . Cipher import PKCS1_OAEP\n",
    "from Cryptodome . PublicKey import RSA\n",
    "from textwrap import wrap\n",
    "\n",
    "KEY_SIZE = 4096\n",
    "\n",
    "key = RSA.generate(KEY_SIZE)\n",
    "cipher = PKCS1_OAEP.new(key)\n",
    "message = b\"It is I who undergoes encryption!\"\n",
    "\n",
    "ciphertext = cipher.encrypt(message)\n",
    "plaintext = cipher.decrypt(ciphertext)\n",
    "\n",
    "print (\"More gibberish your way:\")\n",
    "[ print ( line ) for line in wrap ( ciphertext .hex () , 79) ]\n",
    "print (\"The plaintext is more readable :\", '\"' + plaintext . decode () + '\"')"
   ]
  },
  {
   "cell_type": "code",
   "execution_count": 1,
   "metadata": {},
   "outputs": [],
   "source": [
    "from Cryptodome . Signature import pss\n",
    "from Cryptodome . Hash import SHA3_256\n",
    "from Cryptodome . PublicKey import RSA\n",
    "from Cryptodome import Random\n",
    "\n",
    "KEY_SIZE = 4096\n",
    "\n",
    "key = RSA.generate(KEY_SIZE)\n",
    "pubkey = key.publickey()\n",
    "with open(\"pubkey.pem\", \"wb\") as f:\n",
    "    f.write(pubkey.export_key())\n",
    "    \n",
    "message = b\"I, Alice hereby vouch for the veracity of the present statement\"\n",
    "digest = SHA3_256.new(message)\n",
    "\n",
    "signer = pss.new(key)\n",
    "signature = signer.sign(digest)\n",
    "\n",
    "with open (\"signature\", \"wb\") as f:\n",
    "    f.write ( signature )"
   ]
  },
  {
   "cell_type": "code",
   "execution_count": 122,
   "metadata": {},
   "outputs": [
    {
     "name": "stdout",
     "output_type": "stream",
     "text": [
      "Signature A-OK!\n"
     ]
    }
   ],
   "source": [
    "with open (\"pubkey.pem\", \"rb\") as f :\n",
    "    key = RSA.import_key ( f.read () )\n",
    "with open (\"signature\", \"rb\") as f :\n",
    "    signature = f.read ()\n",
    "    \n",
    "message = b\"I, Alice hereby vouch for the veracity of the present statement\"\n",
    "digest = SHA3_256.new ( message )\n",
    "verifier = pss.new ( key )\n",
    "\n",
    "try:\n",
    "    verifier.verify ( digest , signature )\n",
    "    print (\"Signature A-OK!\")\n",
    "except ( ValueError , TypeError ) :\n",
    "    print (\"Your attempt at forging signatures is deplorable\")\n"
   ]
  },
  {
   "cell_type": "markdown",
   "metadata": {},
   "source": [
    "## Exercise 7"
   ]
  },
  {
   "cell_type": "code",
   "execution_count": 2,
   "metadata": {},
   "outputs": [
    {
     "ename": "NameError",
     "evalue": "name 'PKCS1_OAEP' is not defined",
     "output_type": "error",
     "traceback": [
      "\u001b[1;31m---------------------------------------------------------------------------\u001b[0m",
      "\u001b[1;31mNameError\u001b[0m                                 Traceback (most recent call last)",
      "\u001b[1;32m<ipython-input-2-f238549f7640>\u001b[0m in \u001b[0;36m<module>\u001b[1;34m\u001b[0m\n\u001b[0;32m      8\u001b[0m     \u001b[0mf\u001b[0m\u001b[1;33m.\u001b[0m\u001b[0mwrite\u001b[0m\u001b[1;33m(\u001b[0m\u001b[0mkey\u001b[0m\u001b[1;33m.\u001b[0m\u001b[0mexport_key\u001b[0m\u001b[1;33m(\u001b[0m\u001b[1;33m)\u001b[0m\u001b[1;33m)\u001b[0m\u001b[1;33m\u001b[0m\u001b[1;33m\u001b[0m\u001b[0m\n\u001b[0;32m      9\u001b[0m \u001b[1;33m\u001b[0m\u001b[0m\n\u001b[1;32m---> 10\u001b[1;33m \u001b[0mcipher\u001b[0m \u001b[1;33m=\u001b[0m \u001b[0mPKCS1_OAEP\u001b[0m\u001b[1;33m.\u001b[0m\u001b[0mnew\u001b[0m\u001b[1;33m(\u001b[0m\u001b[0mkey\u001b[0m\u001b[1;33m)\u001b[0m\u001b[1;33m\u001b[0m\u001b[1;33m\u001b[0m\u001b[0m\n\u001b[0m",
      "\u001b[1;31mNameError\u001b[0m: name 'PKCS1_OAEP' is not defined"
     ]
    }
   ],
   "source": [
    "key = RSA.generate(KEY_SIZE)\n",
    "pubkey = key.publickey()\n",
    "\n",
    "with open(\"pubkey.pem\", \"wb\") as f:\n",
    "    f.write(pubkey.export_key())\n",
    "    \n",
    "with open(\"keypair.pem\", \"wb\") as f:\n",
    "    f.write(key.export_key())\n",
    "    \n",
    "cipher = PKCS1_OAEP.new(key)"
   ]
  },
  {
   "cell_type": "code",
   "execution_count": 148,
   "metadata": {},
   "outputs": [],
   "source": [
    "alice_key = RSA.generate(KEY_SIZE)\n",
    "alice_pubkey = alice_key.publickey()\n",
    "\n",
    "message = b\"Hello Bob\"\n",
    "\n",
    "with open (\"pubkey.pem\", \"rb\") as f :\n",
    "    key = RSA.import_key (f.read ())\n",
    "    \n",
    "\n",
    "ciphertext = cipher.encrypt(message)\n",
    "\n",
    "digest = SHA3_256.new(ciphertext)\n",
    "signer = pss.new(alice_key)\n",
    "signature = signer.sign(digest)\n",
    "\n",
    "with open (\"signature\", \"wb\") as f:\n",
    "    f.write(signature)\n",
    "    \n",
    "with open (\"alice_pubkey.pem\", \"wb\") as f:\n",
    "    f.write(alice_pubkey.export_key())\n",
    "    \n",
    "with open (\"ciphertext\", \"wb\") as f:\n",
    "    f.write(ciphertext)"
   ]
  },
  {
   "cell_type": "code",
   "execution_count": 149,
   "metadata": {},
   "outputs": [
    {
     "name": "stdout",
     "output_type": "stream",
     "text": [
      "Signature A-OK!\n",
      "Hello Bob\n"
     ]
    }
   ],
   "source": [
    "with open (\"signature\", \"rb\") as f:\n",
    "    signature = f.read()\n",
    "    \n",
    "with open (\"alice_pubkey.pem\", \"rb\") as f:\n",
    "    alice_pubkey = RSA.import_key(f.read())\n",
    "    \n",
    "with open (\"ciphertext\", \"rb\") as f:\n",
    "    ciphertext = f.read()\n",
    "    \n",
    "digest = SHA3_256.new (ciphertext)\n",
    "verifier = pss.new(alice_pubkey)\n",
    "\n",
    "try:\n",
    "    verifier.verify(digest, signature)\n",
    "    print (\"Signature A-OK!\")\n",
    "    plaintext = cipher.decrypt(ciphertext)\n",
    "    print(plaintext.decode())\n",
    "    \n",
    "except ( ValueError , TypeError ) :\n",
    "    print (\"Your attempt at forging signatures is deplorable\")"
   ]
  },
  {
   "cell_type": "code",
   "execution_count": null,
   "metadata": {},
   "outputs": [],
   "source": []
  }
 ],
 "metadata": {
  "kernelspec": {
   "display_name": "Python 3",
   "language": "python",
   "name": "python3"
  },
  "language_info": {
   "codemirror_mode": {
    "name": "ipython",
    "version": 3
   },
   "file_extension": ".py",
   "mimetype": "text/x-python",
   "name": "python",
   "nbconvert_exporter": "python",
   "pygments_lexer": "ipython3",
   "version": "3.7.3"
  }
 },
 "nbformat": 4,
 "nbformat_minor": 4
}
