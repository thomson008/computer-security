{
 "cells": [
  {
   "cell_type": "markdown",
   "metadata": {},
   "source": [
    "# Section 1"
   ]
  },
  {
   "cell_type": "code",
   "execution_count": 7,
   "metadata": {},
   "outputs": [
    {
     "name": "stdout",
     "output_type": "stream",
     "text": [
      "c0535e4be2b79ffd93291305436bf889314e4a3faec05ecffcbb7df31ad9e51a\n"
     ]
    }
   ],
   "source": [
    "from Cryptodome.Hash import SHA256\n",
    "\n",
    "hex_hash = SHA256.new(b\"Hello world!\").hexdigest()\n",
    "print(hex_hash)"
   ]
  },
  {
   "cell_type": "code",
   "execution_count": 8,
   "metadata": {},
   "outputs": [
    {
     "name": "stdout",
     "output_type": "stream",
     "text": [
      "c0535e4be2b79ffd93291305436bf889314e4a3faec05ecffcbb7df31ad9e51a\n"
     ]
    }
   ],
   "source": [
    "incremental_hash = SHA256.new()\n",
    "incremental_hash.update(b\"Hello \")\n",
    "incremental_hash.update(b\"world!\")\n",
    "print(incremental_hash.hexdigest())"
   ]
  },
  {
   "cell_type": "code",
   "execution_count": 6,
   "metadata": {},
   "outputs": [
    {
     "name": "stdout",
     "output_type": "stream",
     "text": [
      "c0535e4be2b79ffd93291305436bf889314e4a3faec05ecffcbb7df31ad9e51a\n",
      "c0535e4be2b79ffd93291305436bf889314e4a3faec05ecffcbb7df31ad9e51a\n",
      "c0535e4be2b79ffd93291305436bf889314e4a3faec05ecffcbb7df31ad9e51a\n"
     ]
    }
   ],
   "source": [
    "from hashlib import sha256\n",
    "\n",
    "hex_hash = sha256(b\"Hello world!\").hexdigest()\n",
    "print(hex_hash)\n",
    "\n",
    "bin_hash = sha256(b\"Hello world!\").digest()\n",
    "printable = bin_hash.hex()\n",
    "print(printable)\n",
    "\n",
    "incremental_hash = sha256()\n",
    "incremental_hash.update(b\"Hello \")\n",
    "incremental_hash.update(b\"world!\")\n",
    "print(incremental_hash.hexdigest())"
   ]
  },
  {
   "cell_type": "markdown",
   "metadata": {},
   "source": [
    "## Exercise 1"
   ]
  },
  {
   "cell_type": "code",
   "execution_count": 8,
   "metadata": {},
   "outputs": [
    {
     "name": "stdout",
     "output_type": "stream",
     "text": [
      "83c729b05847d8ba2d88e4a456425a858c6469abd373e0352d06906d442d2d5b\n"
     ]
    }
   ],
   "source": [
    "name_hash = SHA256.new(b\"Tomek\").hexdigest()\n",
    "print(name_hash)"
   ]
  },
  {
   "cell_type": "markdown",
   "metadata": {},
   "source": [
    "## Exercise 2"
   ]
  },
  {
   "cell_type": "code",
   "execution_count": 65,
   "metadata": {},
   "outputs": [
    {
     "name": "stdout",
     "output_type": "stream",
     "text": [
      "0123dde8f1d9b24b34f0393f5f9e14c694ccc484f0869cf61f937be3517f0444\n"
     ]
    }
   ],
   "source": [
    "g = SHA256.new(bytearray.fromhex(\"99b5\")).hexdigest()\n",
    "print(g)"
   ]
  },
  {
   "cell_type": "code",
   "execution_count": 64,
   "metadata": {},
   "outputs": [
    {
     "name": "stdout",
     "output_type": "stream",
     "text": [
      "b'\\x99\\xb5'\n"
     ]
    }
   ],
   "source": [
    "x = 0\n",
    "length = 1\n",
    "\n",
    "while(True):\n",
    "    bitstring = x.to_bytes(length, 'big')\n",
    "    hex_num = SHA256.new(bitstring).hexdigest()\n",
    "    if hex_num[0:4] == \"0123\":\n",
    "        print(bitstring)\n",
    "        break\n",
    "    x += 1\n",
    "    if x >= 2 ** (length * 8): length += 1"
   ]
  },
  {
   "cell_type": "markdown",
   "metadata": {},
   "source": [
    "# Section 2"
   ]
  },
  {
   "cell_type": "code",
   "execution_count": 1,
   "metadata": {},
   "outputs": [
    {
     "name": "stdout",
     "output_type": "stream",
     "text": [
      "Gibberish incoming: 76dee24fc841e530594a449279e14b80\n",
      "All good!\n"
     ]
    }
   ],
   "source": [
    "from Cryptodome.Cipher import AES\n",
    "from Cryptodome import Random\n",
    "\n",
    "key = b\"I am a short key\"\n",
    "plaintext = b\"Alice I love you\"\n",
    "\n",
    "iv = Random.new().read(AES.block_size)\n",
    "\n",
    "encrypter = AES.new(key, AES.MODE_CFB, iv)\n",
    "\n",
    "ciphertext = encrypter.encrypt(plaintext)\n",
    "print(\"Gibberish incoming:\", ciphertext.hex())\n",
    "\n",
    "decrypter = AES.new(key, AES.MODE_CFB, iv)\n",
    "\n",
    "decrypted = decrypter.decrypt(ciphertext)\n",
    "if plaintext == decrypted:\n",
    "    print(\"All good!\")"
   ]
  },
  {
   "cell_type": "markdown",
   "metadata": {},
   "source": [
    "## Exercise 4"
   ]
  },
  {
   "cell_type": "code",
   "execution_count": 10,
   "metadata": {},
   "outputs": [
    {
     "name": "stdout",
     "output_type": "stream",
     "text": [
      "b'Tomek'\n"
     ]
    }
   ],
   "source": [
    "plaintext = b\"Tomek\"\n",
    "iv = Random.new().read(AES.block_size)\n",
    "key = Random.new().read(AES.key_size[1])\n",
    "\n",
    "encrypter = AES.new(key, AES.MODE_CFB, iv)\n",
    "decrypter = AES.new(key, AES.MODE_CFB, iv)\n",
    "\n",
    "ciphertext = encrypter.encrypt(plaintext)\n",
    "decrypted = decrypter.decrypt(ciphertext)\n",
    "print(decrypted)"
   ]
  },
  {
   "cell_type": "markdown",
   "metadata": {},
   "source": [
    "## Exercise 5"
   ]
  },
  {
   "cell_type": "code",
   "execution_count": 17,
   "metadata": {},
   "outputs": [
    {
     "name": "stdout",
     "output_type": "stream",
     "text": [
      "b\"If someone else can run arbitrary code on your computer, it's not YOUR computer any more. - Rich Kulawiec\"\n"
     ]
    }
   ],
   "source": [
    "key = bytearray.fromhex(\"6555d417a283161f440cfad518eb852845a6ff45f7e1b7623090b7714a5bbd5f\")\n",
    "iv = bytearray.fromhex(\"9e6632df5a211060622769d9c2300753\")\n",
    "ciphertext = bytearray.fromhex(\"07f631fe65dfd567ea16cefc8f7d7a2117d976935c81dff69587d7a60e79b99529c19d910e52f8e1fae1680ceb438ed461b6bf4ab655d390ee5329f89f458affec7fe3a7660c59374248326469e22b635e7f17abb1beb28dc4e401bf99b149d7b445215fdca7823677\")\n",
    "\n",
    "decrypter = AES.new(key, AES.MODE_CFB, iv)\n",
    "\n",
    "plaintext = decrypter.decrypt(ciphertext)\n",
    "print(plaintext)"
   ]
  },
  {
   "cell_type": "markdown",
   "metadata": {},
   "source": [
    "## Exercise 6"
   ]
  },
  {
   "cell_type": "code",
   "execution_count": 67,
   "metadata": {},
   "outputs": [],
   "source": [
    "key = 12 * \"99b5\"\n",
    "iv = \n",
    "decrypter = AES.new()"
   ]
  },
  {
   "cell_type": "markdown",
   "metadata": {},
   "source": [
    "# Section 3"
   ]
  },
  {
   "cell_type": "code",
   "execution_count": 4,
   "metadata": {},
   "outputs": [
    {
     "name": "stdout",
     "output_type": "stream",
     "text": [
      "More gibberish your way:\n",
      "8ed267c556224dfd8b7924518410a4be93332afc90f8d7859d436a169e09d27b0bbd67be2987fe4\n",
      "4a4bec0a4e07a20d6e04f426385161e02c678f98be615997979cab5223804e8fe3247df942251bd\n",
      "3e863e34535779ed0f2f4789409c560f84a505e4422202b372a320b63f633fa8f94436d38f65cbd\n",
      "70a7c429b9b48fbd0f400192b023201af3c386b80484288a0bf34852c58549a9246e30b0a09fcf0\n",
      "43876a05c2558f589664cd14d5877cc441ce3127261a5babd36f7487cb38b699351e7fb9f6ca11f\n",
      "23494d7592577ecce9266b18ac39ede5f54af952c23567abfa6395295d6aaa22a181367bca41959\n",
      "7f1ef8d4951c1cc1e57cca3af71d578588a10ff21787068d2fbfb9a1f53dcaeb741f12d23cc8430\n",
      "c458ec40ddee91a12524cb600fb38776e1fff1bb1b068f4f165544c2a98f619195827d99782a11b\n",
      "fffedcd261e94ea9b89a2fa99cebf542f63c2768c7c1c2f1eef699a7eee16b9485bd33882571021\n",
      "a01e62a2914f73188fae7bc7a045ff037704be19aba0b66fb20955e45f01fad8745cca758c8aa3c\n",
      "b77b694bb8a100095dc9913c5eeac8827ad92e3a5e76b2f313a3b94472ebd3a741d2c221a41608f\n",
      "800017fbc84c7be81a22d166e0e15ceeb54705a04f14b66ded8fc8e83cddf8e9d889d99e00a9af7\n",
      "c60ebfa25e0576c5aa409dbd7644dfcac96ce7323024314b5cff597dd3ffb3f9ee90e75717f7\n",
      "The plaintext is more readable: \"It is I who undergoes encryption!\"\n"
     ]
    }
   ],
   "source": [
    "from Cryptodome . Cipher import PKCS1_OAEP\n",
    "from Cryptodome . PublicKey import RSA\n",
    "from textwrap import wrap\n",
    "\n",
    "KEY_SIZE = 4096\n",
    "\n",
    "key = RSA.generate(KEY_SIZE)\n",
    "cipher = PKCS1_OAEP.new(key)\n",
    "message = b\"It is I who undergoes encryption!\"\n",
    "\n",
    "ciphertext = cipher.encrypt(message)\n",
    "plaintext = cipher.decrypt(ciphertext)\n",
    "\n",
    "print (\"More gibberish your way:\")\n",
    "[ print ( line ) for line in wrap ( ciphertext .hex () , 79) ]\n",
    "print (\"The plaintext is more readable:\", '\"' + plaintext . decode () + '\"')"
   ]
  },
  {
   "cell_type": "code",
   "execution_count": 1,
   "metadata": {},
   "outputs": [],
   "source": [
    "from Cryptodome . Signature import pss\n",
    "from Cryptodome . Hash import SHA3_256\n",
    "from Cryptodome . PublicKey import RSA\n",
    "from Cryptodome import Random\n",
    "\n",
    "KEY_SIZE = 4096\n",
    "\n",
    "key = RSA.generate(KEY_SIZE)\n",
    "pubkey = key.publickey()\n",
    "with open(\"pubkey.pem\", \"wb\") as f:\n",
    "    f.write(pubkey.export_key())\n",
    "    \n",
    "message = b\"I, Alice hereby vouch for the veracity of the present statement\"\n",
    "digest = SHA3_256.new(message)\n",
    "\n",
    "signer = pss.new(key)\n",
    "signature = signer.sign(digest)\n",
    "\n",
    "with open (\"signature\", \"wb\") as f:\n",
    "    f.write ( signature )"
   ]
  },
  {
   "cell_type": "code",
   "execution_count": 122,
   "metadata": {},
   "outputs": [
    {
     "name": "stdout",
     "output_type": "stream",
     "text": [
      "Signature A-OK!\n"
     ]
    }
   ],
   "source": [
    "with open (\"pubkey.pem\", \"rb\") as f :\n",
    "    key = RSA.import_key ( f.read () )\n",
    "with open (\"signature\", \"rb\") as f :\n",
    "    signature = f.read ()\n",
    "    \n",
    "message = b\"I, Alice hereby vouch for the veracity of the present statement\"\n",
    "digest = SHA3_256.new ( message )\n",
    "verifier = pss.new ( key )\n",
    "\n",
    "try:\n",
    "    verifier.verify ( digest , signature )\n",
    "    print (\"Signature A-OK!\")\n",
    "except ( ValueError , TypeError ) :\n",
    "    print (\"Your attempt at forging signatures is deplorable\")\n"
   ]
  },
  {
   "cell_type": "markdown",
   "metadata": {},
   "source": [
    "## Exercise 7"
   ]
  },
  {
   "cell_type": "code",
   "execution_count": 4,
   "metadata": {},
   "outputs": [],
   "source": [
    "key = RSA.generate(KEY_SIZE)\n",
    "pubkey = key.publickey()\n",
    "\n",
    "with open(\"pubkey.pem\", \"wb\") as f:\n",
    "    f.write(pubkey.export_key())\n",
    "    \n",
    "with open(\"keypair.pem\", \"wb\") as f:\n",
    "    f.write(key.export_key())\n",
    "    \n",
    "cipher = PKCS1_OAEP.new(key)"
   ]
  },
  {
   "cell_type": "code",
   "execution_count": 5,
   "metadata": {},
   "outputs": [],
   "source": [
    "alice_key = RSA.generate(KEY_SIZE)\n",
    "alice_pubkey = alice_key.publickey()\n",
    "\n",
    "message = b\"Hello Bob\"\n",
    "\n",
    "ciphertext = cipher.encrypt(message)\n",
    "\n",
    "digest = SHA3_256.new(ciphertext)\n",
    "signer = pss.new(alice_key)\n",
    "signature = signer.sign(digest)\n",
    "\n",
    "with open (\"signature\", \"wb\") as f:\n",
    "    f.write(signature)\n",
    "    \n",
    "with open (\"alice_pubkey.pem\", \"wb\") as f:\n",
    "    f.write(alice_pubkey.export_key())\n",
    "    \n",
    "with open (\"ciphertext\", \"wb\") as f:\n",
    "    f.write(ciphertext)"
   ]
  },
  {
   "cell_type": "code",
   "execution_count": 6,
   "metadata": {},
   "outputs": [
    {
     "name": "stdout",
     "output_type": "stream",
     "text": [
      "Signature A-OK!\n",
      "Hello Bob\n"
     ]
    }
   ],
   "source": [
    "with open (\"signature\", \"rb\") as f:\n",
    "    signature = f.read()\n",
    "    \n",
    "with open (\"alice_pubkey.pem\", \"rb\") as f:\n",
    "    alice_pubkey = RSA.import_key(f.read())\n",
    "    \n",
    "with open (\"ciphertext\", \"rb\") as f:\n",
    "    ciphertext = f.read()\n",
    "    \n",
    "digest = SHA3_256.new (ciphertext)\n",
    "verifier = pss.new(alice_pubkey)\n",
    "\n",
    "try:\n",
    "    verifier.verify(digest, signature)\n",
    "    print (\"Signature A-OK!\")\n",
    "    plaintext = cipher.decrypt(ciphertext)\n",
    "    print(plaintext.decode())\n",
    "    \n",
    "except ( ValueError , TypeError ) :\n",
    "    print (\"Your attempt at forging signatures is deplorable\")"
   ]
  },
  {
   "cell_type": "code",
   "execution_count": null,
   "metadata": {},
   "outputs": [],
   "source": []
  }
 ],
 "metadata": {
  "kernelspec": {
   "display_name": "Python 3",
   "language": "python",
   "name": "python3"
  },
  "language_info": {
   "codemirror_mode": {
    "name": "ipython",
    "version": 3
   },
   "file_extension": ".py",
   "mimetype": "text/x-python",
   "name": "python",
   "nbconvert_exporter": "python",
   "pygments_lexer": "ipython3",
   "version": "3.7.3"
  }
 },
 "nbformat": 4,
 "nbformat_minor": 4
}
